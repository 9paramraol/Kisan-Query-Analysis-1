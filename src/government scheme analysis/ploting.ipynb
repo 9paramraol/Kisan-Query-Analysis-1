{
 "cells": [
  {
   "cell_type": "code",
   "execution_count": 5,
   "metadata": {},
   "outputs": [],
   "source": [
    "import csv\n",
    "import json\n",
    "import difflib\n",
    "import pandas as pd\n",
    "import plotly.express as px\n",
    "import numpy as np \n",
    "\n",
    "with open('../library/states_india.geojson', 'r') as file:\n",
    "\tstates_geojson = json.load(file)\n",
    "\n",
    "geojson_state_code_map = {}\n",
    "for feature in states_geojson[\"features\"]:\n",
    "\tfeature['id'] = feature['properties']['state_code']\n",
    "\tgeojson_state_code_map[feature['properties']['st_nm'].upper()] = feature['properties']['state_code']\n",
    "\n",
    "state_id_map = {}\n",
    "## change the path over here\n",
    "path = './kcc/output/state_counts.csv'\n",
    "\n",
    "with open(path, 'r', newline='') as file:\n",
    "\tfor row in csv.DictReader(file):\n",
    "\t\tstate = row[\"State\"]\n",
    "\t\tif state == \"DELHI\":\n",
    "\t\t\tstate_id_map[state] = geojson_state_code_map[\"NCT OF DELHI\"]\n",
    "\t\telse:\n",
    "\t\t\tstate_id_map[state] = geojson_state_code_map[difflib.get_close_matches(state, geojson_state_code_map.keys())[0]]\n",
    "\n",
    "## Change the path over here\n",
    "df = pd.read_csv(path)\n",
    "df['Frequency'] = df['Frequency'].apply(lambda x: int(x))\n",
    "df['id'] = df['State'].apply(lambda x: state_id_map.get(x, 0))\n",
    "df['Frequency_Scale'] = df['Frequency']\n",
    "\n",
    "fig = px.choropleth(df, locations='id', geojson=states_geojson, color='Frequency', scope='asia')\n",
    "fig.update_geos(fitbounds=\"locations\", visible=False)\n",
    "fig.show()"
   ]
  },
  {
   "cell_type": "code",
   "execution_count": null,
   "metadata": {},
   "outputs": [],
   "source": []
  }
 ],
 "metadata": {
  "kernelspec": {
   "display_name": "Python 3",
   "language": "python",
   "name": "python3"
  },
  "language_info": {
   "codemirror_mode": {
    "name": "ipython",
    "version": 3
   },
   "file_extension": ".py",
   "mimetype": "text/x-python",
   "name": "python",
   "nbconvert_exporter": "python",
   "pygments_lexer": "ipython3",
   "version": "3.5.2"
  }
 },
 "nbformat": 4,
 "nbformat_minor": 4
}
