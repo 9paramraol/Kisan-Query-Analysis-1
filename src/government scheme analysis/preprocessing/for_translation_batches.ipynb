{
 "cells": [
  {
   "cell_type": "code",
   "execution_count": 1,
   "metadata": {},
   "outputs": [],
   "source": [
    "file = open('distinct_govt_query','r')\n",
    "Lines = file.read().splitlines()"
   ]
  },
  {
   "cell_type": "code",
   "execution_count": 27,
   "metadata": {},
   "outputs": [],
   "source": [
    "n_lines = Lines[int(4.0*10000):int(4.5*10000)]\n",
    "with open('temp_translation.txt', 'w') as f:\n",
    "    for item in n_lines:\n",
    "        f.write(\"%s\\n\" % item)"
   ]
  },
  {
   "cell_type": "code",
   "execution_count": 28,
   "metadata": {},
   "outputs": [],
   "source": [
    "n_lines = Lines[int(4.5*10000):int(5*10000)]\n",
    "with open('temp_translation.txt', 'w') as f:\n",
    "    for item in n_lines:\n",
    "        f.write(\"%s\\n\" % item)"
   ]
  },
  {
   "cell_type": "code",
   "execution_count": 29,
   "metadata": {},
   "outputs": [],
   "source": [
    "n_lines = Lines[int(5*10000):int(5.5*10000)]\n",
    "with open('temp_translation.txt', 'w') as f:\n",
    "    for item in n_lines:\n",
    "        f.write(\"%s\\n\" % item)"
   ]
  },
  {
   "cell_type": "code",
   "execution_count": 30,
   "metadata": {},
   "outputs": [],
   "source": [
    "n_lines = Lines[int(5.5*10000):int(6.0*10000)]\n",
    "with open('temp_translation.txt', 'w') as f:\n",
    "    for item in n_lines:\n",
    "        f.write(\"%s\\n\" % item)"
   ]
  },
  {
   "cell_type": "code",
   "execution_count": 31,
   "metadata": {},
   "outputs": [],
   "source": [
    "n_lines = Lines[int(6.0*10000):int(6.5*10000)]\n",
    "with open('temp_translation.txt', 'w') as f:\n",
    "    for item in n_lines:\n",
    "        f.write(\"%s\\n\" % item)"
   ]
  },
  {
   "cell_type": "code",
   "execution_count": 32,
   "metadata": {},
   "outputs": [],
   "source": [
    "n_lines = Lines[int(6.5*10000):int(7.0*10000)]\n",
    "with open('temp_translation.txt', 'w') as f:\n",
    "    for item in n_lines:\n",
    "        f.write(\"%s\\n\" % item)"
   ]
  },
  {
   "cell_type": "code",
   "execution_count": 33,
   "metadata": {},
   "outputs": [],
   "source": [
    "n_lines = Lines[int(7.0*10000):int(7.5*10000)]\n",
    "with open('temp_translation.txt', 'w') as f:\n",
    "    for item in n_lines:\n",
    "        f.write(\"%s\\n\" % item)"
   ]
  },
  {
   "cell_type": "code",
   "execution_count": 34,
   "metadata": {},
   "outputs": [],
   "source": [
    "n_lines = Lines[int(7.5*10000):int(8.0*10000)]\n",
    "with open('temp_translation.txt', 'w') as f:\n",
    "    for item in n_lines:\n",
    "        f.write(\"%s\\n\" % item)"
   ]
  },
  {
   "cell_type": "code",
   "execution_count": 35,
   "metadata": {},
   "outputs": [],
   "source": [
    "n_lines = Lines[int(8.0*10000):int(8.5*10000)]\n",
    "with open('temp_translation.txt', 'w') as f:\n",
    "    for item in n_lines:\n",
    "        f.write(\"%s\\n\" % item)"
   ]
  },
  {
   "cell_type": "code",
   "execution_count": 37,
   "metadata": {},
   "outputs": [],
   "source": [
    "n_lines = Lines[int(8.5*10000):int(9.0*10000)]\n",
    "with open('temp_translation.txt', 'w') as f:\n",
    "    for item in n_lines:\n",
    "        f.write(\"%s\\n\" % item)"
   ]
  },
  {
   "cell_type": "code",
   "execution_count": 38,
   "metadata": {},
   "outputs": [],
   "source": [
    "n_lines = Lines[int(9.0*10000):int(9.5*10000)]\n",
    "with open('temp_translation.txt', 'w') as f:\n",
    "    for item in n_lines:\n",
    "        f.write(\"%s\\n\" % item)"
   ]
  },
  {
   "cell_type": "code",
   "execution_count": 39,
   "metadata": {},
   "outputs": [],
   "source": [
    "n_lines = Lines[int(9.5*10000):int(10.0*10000)]\n",
    "with open('temp_translation.txt', 'w') as f:\n",
    "    for item in n_lines:\n",
    "        f.write(\"%s\\n\" % item)"
   ]
  },
  {
   "cell_type": "code",
   "execution_count": 40,
   "metadata": {},
   "outputs": [],
   "source": [
    "n_lines = Lines[int(10.0*10000):int(10.5*10000)]\n",
    "with open('temp_translation.txt', 'w') as f:\n",
    "    for item in n_lines:\n",
    "        f.write(\"%s\\n\" % item)"
   ]
  },
  {
   "cell_type": "code",
   "execution_count": 41,
   "metadata": {},
   "outputs": [],
   "source": [
    "n_lines = Lines[int(10.5*10000):int(11.0*10000)]\n",
    "with open('temp_translation.txt', 'w') as f:\n",
    "    for item in n_lines:\n",
    "        f.write(\"%s\\n\" % item)"
   ]
  },
  {
   "cell_type": "code",
   "execution_count": 42,
   "metadata": {},
   "outputs": [],
   "source": [
    "n_lines = Lines[int(11.0*10000):int(11.5*10000)]\n",
    "with open('temp_translation.txt', 'w') as f:\n",
    "    for item in n_lines:\n",
    "        f.write(\"%s\\n\" % item)"
   ]
  },
  {
   "cell_type": "code",
   "execution_count": 43,
   "metadata": {},
   "outputs": [],
   "source": [
    "n_lines = Lines[int(11.5*10000):int(12.0*10000)]\n",
    "with open('temp_translation.txt', 'w') as f:\n",
    "    for item in n_lines:\n",
    "        f.write(\"%s\\n\" % item)"
   ]
  },
  {
   "cell_type": "code",
   "execution_count": 44,
   "metadata": {},
   "outputs": [],
   "source": [
    "n_lines = Lines[int(12.0*10000):-1]\n",
    "with open('temp_translation.txt', 'w') as f:\n",
    "    for item in n_lines:\n",
    "        f.write(\"%s\\n\" % item)"
   ]
  },
  {
   "cell_type": "code",
   "execution_count": null,
   "metadata": {},
   "outputs": [],
   "source": []
  }
 ],
 "metadata": {
  "kernelspec": {
   "display_name": "Python 3",
   "language": "python",
   "name": "python3"
  },
  "language_info": {
   "codemirror_mode": {
    "name": "ipython",
    "version": 3
   },
   "file_extension": ".py",
   "mimetype": "text/x-python",
   "name": "python",
   "nbconvert_exporter": "python",
   "pygments_lexer": "ipython3",
   "version": "3.5.2"
  }
 },
 "nbformat": 4,
 "nbformat_minor": 4
}
