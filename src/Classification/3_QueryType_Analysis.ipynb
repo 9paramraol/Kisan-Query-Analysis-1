{
 "cells": [
  {
   "cell_type": "code",
   "execution_count": 21,
   "metadata": {},
   "outputs": [],
   "source": [
    "import pandas as pd\n",
    "import matplotlib.pyplot as plt\n",
    "import numpy as np\n",
    "from tqdm import tqdm"
   ]
  },
  {
   "cell_type": "code",
   "execution_count": 8,
   "metadata": {},
   "outputs": [],
   "source": [
    "df = pd.read_csv('Clean_data.csv')"
   ]
  },
  {
   "cell_type": "code",
   "execution_count": 44,
   "metadata": {},
   "outputs": [],
   "source": [
    "df_querytype = df.loc[1:2]\n",
    "for querytype in querytypes_dict.keys():\n",
    "    temp = df[df['Query Type']==querytype]\n",
    "    if len(temp)<=1000:\n",
    "        df_querytype = df_querytype.append(temp)\n",
    "    else:\n",
    "        temp = temp.reset_index(drop=True)\n",
    "        temp = temp.sample(frac = 1000/len(temp)) \n",
    "        df_querytype = df_querytype.append(temp)\n",
    "\n",
    "df_querytype = df_querytype.reset_index(drop=True)"
   ]
  },
  {
   "cell_type": "code",
   "execution_count": 45,
   "metadata": {},
   "outputs": [],
   "source": [
    "def calculator(df):\n",
    "#     print(df.head())\n",
    "    current_set = set(df)\n",
    "    dictionary = {}\n",
    "    for ele in current_set:\n",
    "        dictionary[ele]=0\n",
    "    for ele in df:\n",
    "        dictionary[ele]+=1\n",
    "    return dictionary\n",
    "\n",
    "querytypes_dict = calculator(df_querytype['Query Type']) "
   ]
  },
  {
   "cell_type": "code",
   "execution_count": 47,
   "metadata": {},
   "outputs": [
    {
     "data": {
      "text/plain": [
       "{'Cold Storage': 210,\n",
       " 'Landscaping': 208,\n",
       " 'Fish Dressing Drying': 132,\n",
       " 'Cultural Practices': 1000,\n",
       " 'Freshwater Pearl Farming.': 264,\n",
       " 'Beekeeping': 92,\n",
       " 'Fish Marketing': 395,\n",
       " 'Weed Management': 1000,\n",
       " 'Animal Breeding': 1000,\n",
       " 'Market Information': 1000,\n",
       " 'Old/Senile Orchard Rejuvenation': 172,\n",
       " 'Dairy Production': 1000,\n",
       " 'Government Schemes': 1001,\n",
       " 'Disease Reporting': 1000,\n",
       " 'Training and Exposure Visits': 1000,\n",
       " 'Medicinal and Aromatic Plants': 1000,\n",
       " 'Seeds and Planting Material': 1000,\n",
       " 'Disease Management': 1000,\n",
       " 'Weather': 1001,\n",
       " 'Water Testing for Fish Production': 737,\n",
       " 'Breeding of freshwater prawn': 141,\n",
       " 'Mushroom Production': 1000,\n",
       " 'Seaweed Cultivation': 42,\n",
       " 'Power, Roads etc.': 1000,\n",
       " 'Post Harvest Management (Cleaning, Grading, Packaging, Food Processing, Cool Chain etc.)': 1000,\n",
       " 'Storage': 1000,\n",
       " 'Spices and Condiment Crops': 1000,\n",
       " 'Field Preparation': 1000,\n",
       " 'Bio-Pesticides and Bio-Fertilizers': 1000,\n",
       " 'Fish Fingerling Production': 1000,\n",
       " 'Artificial Insemination': 397,\n",
       " 'Floriculture': 539,\n",
       " 'Varieties': 1000,\n",
       " 'Water Management, Micro Irrigation': 1000,\n",
       " 'Freshwater pearl culture': 173,\n",
       " 'Plant Protection': 1000,\n",
       " 'Crop Insurance': 1000,\n",
       " 'Fishing Harbours and Landing Centre': 83,\n",
       " 'Fertilizer Use and Availability': 1000,\n",
       " 'Fishery Nutrition': 986,\n",
       " 'Deep Sea Fishing and Processing': 43,\n",
       " 'Breeding and culture of ornamental fish': 165,\n",
       " 'Seeds': 1000,\n",
       " 'Nutrient Management': 1000,\n",
       " 'Water Management': 1000,\n",
       " 'Soil Health Card': 1000,\n",
       " 'Nursery Management': 1000,\n",
       " 'Plasticulture': 296,\n",
       " 'Agriculture Mechanization': 1000,\n",
       " 'Vegetative Propagation and Tissue Culture': 1000,\n",
       " 'Animal Production (Piggery, Goatery, Sheep Farming etc.)': 1000,\n",
       " 'Credit': 1000,\n",
       " 'Livestock Products Processing and Packaging': 1000,\n",
       " 'Post Harvest Preservation': 1000,\n",
       " 'Organic Farming': 1000,\n",
       " 'Magur Breeding and Culture': 120,\n",
       " 'Coastal Aquaculture': 68,\n",
       " 'Tank, Pond and Reservoir Management': 1000,\n",
       " 'Animal Nutrition': 1000,\n",
       " 'Cattle shed Planning and Management': 1000,\n",
       " 'Fishery Mechanization': 302,\n",
       " 'Integrated Farming': 915,\n",
       " 'Soil Testing': 1000,\n",
       " 'Sowing Time and Weather': 1000}"
      ]
     },
     "execution_count": 47,
     "metadata": {},
     "output_type": "execute_result"
    }
   ],
   "source": [
    "querytypes_dict"
   ]
  },
  {
   "cell_type": "code",
   "execution_count": 48,
   "metadata": {},
   "outputs": [
    {
     "name": "stderr",
     "output_type": "stream",
     "text": [
      "  0%|                                                                                        | 0/48482 [00:00<?, ?it/s]D:\\Anaconda3\\lib\\site-packages\\ipykernel_launcher.py:5: SettingWithCopyWarning: \n",
      "A value is trying to be set on a copy of a slice from a DataFrame\n",
      "\n",
      "See the caveats in the documentation: https://pandas.pydata.org/pandas-docs/stable/user_guide/indexing.html#returning-a-view-versus-a-copy\n",
      "  \"\"\"\n",
      "D:\\Anaconda3\\lib\\site-packages\\ipykernel_launcher.py:3: SettingWithCopyWarning: \n",
      "A value is trying to be set on a copy of a slice from a DataFrame\n",
      "\n",
      "See the caveats in the documentation: https://pandas.pydata.org/pandas-docs/stable/user_guide/indexing.html#returning-a-view-versus-a-copy\n",
      "  This is separate from the ipykernel package so we can avoid doing imports until\n",
      "100%|█████████████████████████████████████████████████████████████████████████| 48482/48482 [00:01<00:00, 27934.85it/s]\n"
     ]
    }
   ],
   "source": [
    "for i in tqdm(range(len(df_querytype))):\n",
    "    if 'yojana' in df_querytype['Query'][i].lower().split():\n",
    "        df_querytype['Predicted Query Type'][i]='Government Schemes'\n",
    "    if 'weather' in df_querytype['Query'][i].lower().split():\n",
    "        df_querytype['Predicted Query Type'][i]='Weather'"
   ]
  },
  {
   "cell_type": "code",
   "execution_count": 50,
   "metadata": {},
   "outputs": [],
   "source": [
    "df_querytype.to_csv('QueryType.csv',index=False)"
   ]
  },
  {
   "cell_type": "code",
   "execution_count": 51,
   "metadata": {},
   "outputs": [
    {
     "data": {
      "text/plain": [
       "48482"
      ]
     },
     "execution_count": 51,
     "metadata": {},
     "output_type": "execute_result"
    }
   ],
   "source": [
    "len(df_querytype)"
   ]
  },
  {
   "cell_type": "code",
   "execution_count": null,
   "metadata": {},
   "outputs": [],
   "source": []
  }
 ],
 "metadata": {
  "kernelspec": {
   "display_name": "Python 3",
   "language": "python",
   "name": "python3"
  },
  "language_info": {
   "codemirror_mode": {
    "name": "ipython",
    "version": 3
   },
   "file_extension": ".py",
   "mimetype": "text/x-python",
   "name": "python",
   "nbconvert_exporter": "python",
   "pygments_lexer": "ipython3",
   "version": "3.7.1"
  }
 },
 "nbformat": 4,
 "nbformat_minor": 4
}
