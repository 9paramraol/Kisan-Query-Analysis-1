{
 "cells": [
  {
   "cell_type": "code",
   "execution_count": 34,
   "metadata": {},
   "outputs": [],
   "source": [
    "import numpy as np\n",
    "import pandas as pd\n",
    "import matplotlib.pyplot as plt\n",
    "import torch\n",
    "from torch.autograd import Variable\n",
    "from sklearn.model_selection import KFold\n",
    "from sklearn.model_selection import StratifiedKFold\n",
    "import random\n",
    "import csv\n",
    "import json \n",
    "from tqdm import tqdm\n",
    "from sklearn.linear_model import LinearRegression\n",
    "from scipy import spatial"
   ]
  },
  {
   "cell_type": "code",
   "execution_count": 2,
   "metadata": {},
   "outputs": [],
   "source": [
    "torch.backends.cudnn.deterministic = True\n",
    "torch.manual_seed(123)\n",
    "torch.cuda.manual_seed_all(123)\n",
    "np.random.seed(123)\n",
    "torch.cuda.manual_seed_all(123)"
   ]
  },
  {
   "cell_type": "code",
   "execution_count": 3,
   "metadata": {},
   "outputs": [],
   "source": [
    "df = pd.read_csv('QueryType.csv')\n",
    "\n",
    "f = open('querytype_dataset_sentence_embeddings.json')  \n",
    "input_embeddings = json.load(f)\n",
    "\n",
    "f = open('querytype_keys_sentence_embeddings.json')  \n",
    "output_embeddings = json.load(f)\n",
    "\n",
    "querytypes = set(df['Query Type'])"
   ]
  },
  {
   "cell_type": "code",
   "execution_count": 20,
   "metadata": {},
   "outputs": [],
   "source": [
    "df_train = df.loc[0:1]\n",
    "df_test = df.loc[0:1]\n",
    "for key in querytypes:\n",
    "    temp = df[df['Query Type']==key]\n",
    "    temp = temp.reset_index(drop=True)\n",
    "    df_train=df_train.append(temp.loc[:int(0.8*len(temp))])\n",
    "    df_test=df_test.append(temp.loc[int(0.8*len(temp)):])\n",
    "    \n",
    "df_train = df_train.reset_index(drop=True)\n",
    "df_test = df_test.reset_index(drop=True)"
   ]
  },
  {
   "cell_type": "code",
   "execution_count": 24,
   "metadata": {},
   "outputs": [],
   "source": [
    "def get_data(df):\n",
    "    x = []\n",
    "    y = []\n",
    "    for i in range(len(df)):\n",
    "        temp = np.array(input_embeddings[str(df['ID'][i])])\n",
    "        x.append(temp)\n",
    "        temp = np.array(output_embeddings[df['Query Type'][i]])\n",
    "        y.append(temp)\n",
    "\n",
    "    x = np.array(x, dtype=np.float32)\n",
    "    y = np.array(y, dtype=np.float32)\n",
    "    \n",
    "    return x, y\n",
    "\n",
    "x_train, y_train = get_data(df_train)\n",
    "x_test, y_test = get_data(df_test)"
   ]
  },
  {
   "cell_type": "code",
   "execution_count": 38,
   "metadata": {},
   "outputs": [],
   "source": [
    "def training(x, y):\n",
    "    model = LinearRegression().fit(x, y)\n",
    "    return model\n",
    "\n",
    "def predict(model, x):\n",
    "    predicted = model.predict(x)\n",
    "    return predicted\n",
    "\n",
    "def cosine_simil(y1, y2):\n",
    "    return 1-spatial.distance.cosine(y1, y2)"
   ]
  },
  {
   "cell_type": "code",
   "execution_count": 32,
   "metadata": {},
   "outputs": [],
   "source": [
    "LR = training(x_train,y_train)"
   ]
  },
  {
   "cell_type": "code",
   "execution_count": 33,
   "metadata": {},
   "outputs": [],
   "source": [
    "y_pred = predict(LR, x_test)"
   ]
  },
  {
   "cell_type": "code",
   "execution_count": 45,
   "metadata": {},
   "outputs": [
    {
     "name": "stderr",
     "output_type": "stream",
     "text": [
      "  0%|                                                                                         | 0/9709 [00:00<?, ?it/s]D:\\Anaconda3\\lib\\site-packages\\ipykernel_launcher.py:8: SettingWithCopyWarning: \n",
      "A value is trying to be set on a copy of a slice from a DataFrame\n",
      "\n",
      "See the caveats in the documentation: https://pandas.pydata.org/pandas-docs/stable/user_guide/indexing.html#returning-a-view-versus-a-copy\n",
      "  \n",
      "100%|█████████████████████████████████████████████████████████████████████████████| 9709/9709 [00:47<00:00, 202.52it/s]\n"
     ]
    }
   ],
   "source": [
    "for i in tqdm(range(len(y_pred))):\n",
    "    max_cos=0\n",
    "    max_key = None\n",
    "    for key in output_embeddings.keys():\n",
    "        if cosine_simil(y_pred[i],output_embeddings[key]) > max_cos:\n",
    "            max_cos = cosine_simil(y_pred[i],output_embeddings[key])\n",
    "            max_key = key\n",
    "    df_test['Predicted Query Type'][i]=max_key"
   ]
  },
  {
   "cell_type": "code",
   "execution_count": 49,
   "metadata": {},
   "outputs": [
    {
     "data": {
      "text/plain": [
       "0.3646101555258008"
      ]
     },
     "execution_count": 49,
     "metadata": {},
     "output_type": "execute_result"
    }
   ],
   "source": [
    "len(df_test[df_test['Query Type']==df_test['Predicted Query Type']])/len(df_test)"
   ]
  },
  {
   "cell_type": "code",
   "execution_count": null,
   "metadata": {},
   "outputs": [],
   "source": []
  }
 ],
 "metadata": {
  "kernelspec": {
   "display_name": "Python 3",
   "language": "python",
   "name": "python3"
  },
  "language_info": {
   "codemirror_mode": {
    "name": "ipython",
    "version": 3
   },
   "file_extension": ".py",
   "mimetype": "text/x-python",
   "name": "python",
   "nbconvert_exporter": "python",
   "pygments_lexer": "ipython3",
   "version": "3.7.1"
  }
 },
 "nbformat": 4,
 "nbformat_minor": 4
}
