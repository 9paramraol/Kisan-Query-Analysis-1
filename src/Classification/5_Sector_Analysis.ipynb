{
 "cells": [
  {
   "cell_type": "code",
   "execution_count": 1,
   "metadata": {},
   "outputs": [],
   "source": [
    "import pandas as pd\n",
    "import matplotlib.pyplot as plt\n",
    "import numpy as np\n",
    "from tqdm import tqdm"
   ]
  },
  {
   "cell_type": "code",
   "execution_count": 2,
   "metadata": {},
   "outputs": [],
   "source": [
    "df = pd.read_csv('Clean_data.csv')"
   ]
  },
  {
   "cell_type": "code",
   "execution_count": 3,
   "metadata": {},
   "outputs": [],
   "source": [
    "def calculator(df):\n",
    "    current_set = set(df)\n",
    "    dictionary = {}\n",
    "    for ele in current_set:\n",
    "        dictionary[ele]=0\n",
    "    for ele in df:\n",
    "        dictionary[ele]+=1\n",
    "    return dictionary\n",
    "\n",
    "sectors_dict = calculator(df['Sector'])"
   ]
  },
  {
   "cell_type": "code",
   "execution_count": 12,
   "metadata": {},
   "outputs": [],
   "source": [
    "df_sector = df.loc[1:2]\n",
    "for sector in sectors_dict.keys():\n",
    "    temp = df[df['Sector']==sector]\n",
    "    if len(temp)<=10000:\n",
    "        df_sector = df_sector.append(temp)\n",
    "    else:\n",
    "        temp = temp.reset_index(drop=True)\n",
    "        temp = temp.sample(frac = 10000/len(temp)) \n",
    "        df_sector = df_sector.append(temp)\n",
    "\n",
    "df_sector = df_sector.reset_index(drop=True)\n",
    "df_sector['Predicted Sector']=0"
   ]
  },
  {
   "cell_type": "code",
   "execution_count": 13,
   "metadata": {},
   "outputs": [],
   "source": [
    "df_sector.to_csv('Sector.csv',index=False)"
   ]
  },
  {
   "cell_type": "code",
   "execution_count": null,
   "metadata": {},
   "outputs": [],
   "source": []
  }
 ],
 "metadata": {
  "kernelspec": {
   "display_name": "Python 3",
   "language": "python",
   "name": "python3"
  },
  "language_info": {
   "codemirror_mode": {
    "name": "ipython",
    "version": 3
   },
   "file_extension": ".py",
   "mimetype": "text/x-python",
   "name": "python",
   "nbconvert_exporter": "python",
   "pygments_lexer": "ipython3",
   "version": "3.7.1"
  }
 },
 "nbformat": 4,
 "nbformat_minor": 4
}
